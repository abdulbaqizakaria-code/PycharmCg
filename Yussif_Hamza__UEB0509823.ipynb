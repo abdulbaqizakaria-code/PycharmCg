{
  "cells": [
    {
      "cell_type": "markdown",
      "metadata": {
        "id": "view-in-github",
        "colab_type": "text"
      },
      "source": [
        "<a href=\"https://colab.research.google.com/github/abdulbaqizakaria-code/PycharmCg/blob/main/Yussif_Hamza__UEB0509823.ipynb\" target=\"_parent\"><img src=\"https://colab.research.google.com/assets/colab-badge.svg\" alt=\"Open In Colab\"/></a>"
      ]
    },
    {
      "cell_type": "markdown",
      "source": [
        "Assignment 1"
      ],
      "metadata": {
        "id": "hbhaEi-pEKbV"
      }
    },
    {
      "cell_type": "markdown",
      "metadata": {
        "id": "8_6PHR5Mheyr"
      },
      "source": [
        "Task 1\n",
        "a."
      ]
    },
    {
      "cell_type": "code",
      "execution_count": null,
      "metadata": {
        "colab": {
          "base_uri": "https://localhost:8080/"
        },
        "id": "RXaYbo8Ahiog",
        "outputId": "8a80e0cc-6479-462e-8e3f-bfb83cb3a5f2"
      },
      "outputs": [
        {
          "data": {
            "text/plain": [
              "20"
            ]
          },
          "execution_count": 10,
          "metadata": {},
          "output_type": "execute_result"
        }
      ],
      "source": [
        "\n",
        "int(20)"
      ]
    },
    {
      "cell_type": "code",
      "execution_count": null,
      "metadata": {
        "colab": {
          "base_uri": "https://localhost:8080/",
          "height": 36
        },
        "id": "puxf8oIQkOJc",
        "outputId": "e6723922-8e0d-42c1-a0e5-cbed66db65dc"
      },
      "outputs": [
        {
          "data": {
            "application/vnd.google.colaboratory.intrinsic+json": {
              "type": "string"
            },
            "text/plain": [
              "'50'"
            ]
          },
          "execution_count": 16,
          "metadata": {},
          "output_type": "execute_result"
        }
      ],
      "source": [
        "str(\"50\")"
      ]
    },
    {
      "cell_type": "code",
      "execution_count": null,
      "metadata": {
        "colab": {
          "base_uri": "https://localhost:8080/"
        },
        "id": "5wCcVZcdkYEy",
        "outputId": "bbdd54b2-a364-459a-8442-e3388b9c64fe"
      },
      "outputs": [
        {
          "data": {
            "text/plain": [
              "10.5"
            ]
          },
          "execution_count": 17,
          "metadata": {},
          "output_type": "execute_result"
        }
      ],
      "source": [
        "float(10.5)"
      ]
    },
    {
      "cell_type": "code",
      "execution_count": null,
      "metadata": {
        "colab": {
          "base_uri": "https://localhost:8080/"
        },
        "id": "_3hSqKTdkdLt",
        "outputId": "602f395d-4aaa-44ae-c2d1-f903c9516486"
      },
      "outputs": [
        {
          "data": {
            "text/plain": [
              "True"
            ]
          },
          "execution_count": 18,
          "metadata": {},
          "output_type": "execute_result"
        }
      ],
      "source": [
        "bool(True)"
      ]
    },
    {
      "cell_type": "markdown",
      "metadata": {
        "id": "UAIHCTCtiPBp"
      },
      "source": [
        "b."
      ]
    },
    {
      "cell_type": "code",
      "execution_count": null,
      "metadata": {
        "colab": {
          "base_uri": "https://localhost:8080/"
        },
        "id": "65M1HGdLiRsj",
        "outputId": "70c0f7b2-2f70-425b-d4ae-38691af3a390"
      },
      "outputs": [
        {
          "data": {
            "text/plain": [
              "int"
            ]
          },
          "execution_count": 20,
          "metadata": {},
          "output_type": "execute_result"
        }
      ],
      "source": [
        "type(20)"
      ]
    },
    {
      "cell_type": "code",
      "execution_count": null,
      "metadata": {
        "colab": {
          "base_uri": "https://localhost:8080/"
        },
        "id": "krdnfYrjkou5",
        "outputId": "b9361167-f0f3-43bb-cbb8-cc8666b83da3"
      },
      "outputs": [
        {
          "data": {
            "text/plain": [
              "str"
            ]
          },
          "execution_count": 21,
          "metadata": {},
          "output_type": "execute_result"
        }
      ],
      "source": [
        "type('50')"
      ]
    },
    {
      "cell_type": "code",
      "execution_count": null,
      "metadata": {
        "colab": {
          "base_uri": "https://localhost:8080/"
        },
        "id": "S-RxmTD-kwU3",
        "outputId": "8bdefd4d-5bae-4e61-ca4e-efa8c9d3ea0c"
      },
      "outputs": [
        {
          "data": {
            "text/plain": [
              "float"
            ]
          },
          "execution_count": 22,
          "metadata": {},
          "output_type": "execute_result"
        }
      ],
      "source": [
        "type(10.5)"
      ]
    },
    {
      "cell_type": "code",
      "execution_count": null,
      "metadata": {
        "colab": {
          "base_uri": "https://localhost:8080/"
        },
        "id": "uAIT21Z9k2ID",
        "outputId": "14c8aa20-130d-4fc8-9e36-4117e2cbad67"
      },
      "outputs": [
        {
          "data": {
            "text/plain": [
              "bool"
            ]
          },
          "execution_count": 23,
          "metadata": {},
          "output_type": "execute_result"
        }
      ],
      "source": [
        "type(True)"
      ]
    },
    {
      "cell_type": "markdown",
      "metadata": {
        "id": "iPSwW3zqiz-r"
      },
      "source": [
        "Task 2\n",
        "a."
      ]
    },
    {
      "cell_type": "code",
      "execution_count": null,
      "metadata": {
        "colab": {
          "base_uri": "https://localhost:8080/"
        },
        "id": "etjVDuKdi5kK",
        "outputId": "67021365-975c-44c6-a0ef-df3df2895cfb"
      },
      "outputs": [
        {
          "data": {
            "text/plain": [
              "19"
            ]
          },
          "execution_count": 10,
          "metadata": {},
          "output_type": "execute_result"
        }
      ],
      "source": [
        "int(19.99)"
      ]
    },
    {
      "cell_type": "markdown",
      "metadata": {
        "id": "M3dtOpFTjHZg"
      },
      "source": [
        "b"
      ]
    },
    {
      "cell_type": "code",
      "execution_count": null,
      "metadata": {
        "colab": {
          "base_uri": "https://localhost:8080/",
          "height": 36
        },
        "id": "nqxEobYDhPiY",
        "outputId": "299f9fa0-2f5e-435f-eec7-68d7e613c179"
      },
      "outputs": [
        {
          "data": {
            "application/vnd.google.colaboratory.intrinsic+json": {
              "type": "string"
            },
            "text/plain": [
              "'50'"
            ]
          },
          "execution_count": 11,
          "metadata": {},
          "output_type": "execute_result"
        }
      ],
      "source": [
        "str(50)"
      ]
    },
    {
      "cell_type": "markdown",
      "metadata": {
        "id": "CYSZTcT4jOWZ"
      },
      "source": [
        "c."
      ]
    },
    {
      "cell_type": "code",
      "execution_count": null,
      "metadata": {
        "colab": {
          "base_uri": "https://localhost:8080/"
        },
        "id": "Wmq9CY2cjQ1c",
        "outputId": "89bcfe98-46f2-4410-d617-a893441d5dc0"
      },
      "outputs": [
        {
          "data": {
            "text/plain": [
              "50.0"
            ]
          },
          "execution_count": 12,
          "metadata": {},
          "output_type": "execute_result"
        }
      ],
      "source": [
        "float(\"50\")"
      ]
    },
    {
      "cell_type": "markdown",
      "metadata": {
        "id": "J7WxTv-Sj6Xc"
      },
      "source": [
        "d."
      ]
    },
    {
      "cell_type": "code",
      "execution_count": null,
      "metadata": {
        "colab": {
          "base_uri": "https://localhost:8080/"
        },
        "id": "h5L6AZ8uj8Th",
        "outputId": "0111d78a-2b84-4b1a-f232-43392d3dd84d"
      },
      "outputs": [
        {
          "name": "stdout",
          "output_type": "stream",
          "text": [
            "19\n"
          ]
        }
      ],
      "source": [
        "print(19)"
      ]
    },
    {
      "cell_type": "code",
      "execution_count": null,
      "metadata": {
        "colab": {
          "base_uri": "https://localhost:8080/"
        },
        "id": "y5YPZ0GqkEH2",
        "outputId": "c8f55706-ddb8-484b-f8a9-12dea4da3975"
      },
      "outputs": [
        {
          "data": {
            "text/plain": [
              "int"
            ]
          },
          "execution_count": 24,
          "metadata": {},
          "output_type": "execute_result"
        }
      ],
      "source": [
        "type(19)"
      ]
    },
    {
      "cell_type": "code",
      "execution_count": null,
      "metadata": {
        "colab": {
          "base_uri": "https://localhost:8080/"
        },
        "id": "i7DiHRKSlAff",
        "outputId": "7744290a-6d34-4041-ed69-01f5656b468f"
      },
      "outputs": [
        {
          "name": "stdout",
          "output_type": "stream",
          "text": [
            "50\n"
          ]
        }
      ],
      "source": [
        "print('50')"
      ]
    },
    {
      "cell_type": "code",
      "execution_count": null,
      "metadata": {
        "colab": {
          "base_uri": "https://localhost:8080/"
        },
        "id": "f555g44xlKzY",
        "outputId": "3178e2b2-6a3f-4cc6-d240-5d75c4672520"
      },
      "outputs": [
        {
          "data": {
            "text/plain": [
              "str"
            ]
          },
          "execution_count": 26,
          "metadata": {},
          "output_type": "execute_result"
        }
      ],
      "source": [
        "type(\"50\")"
      ]
    },
    {
      "cell_type": "code",
      "execution_count": null,
      "metadata": {
        "colab": {
          "base_uri": "https://localhost:8080/"
        },
        "id": "owVKMTdmlVe3",
        "outputId": "2b0866f8-550e-4e07-9595-eb29c6fe414c"
      },
      "outputs": [
        {
          "name": "stdout",
          "output_type": "stream",
          "text": [
            "50.0\n"
          ]
        }
      ],
      "source": [
        "print(50.0)"
      ]
    },
    {
      "cell_type": "code",
      "execution_count": null,
      "metadata": {
        "colab": {
          "base_uri": "https://localhost:8080/"
        },
        "id": "Usix2Fa0lZBt",
        "outputId": "93acd608-493b-47cf-c9ac-70cbbbde9487"
      },
      "outputs": [
        {
          "data": {
            "text/plain": [
              "float"
            ]
          },
          "execution_count": 28,
          "metadata": {},
          "output_type": "execute_result"
        }
      ],
      "source": [
        "type(50.5)"
      ]
    },
    {
      "cell_type": "markdown",
      "metadata": {
        "id": "zW2gBLSglu-D"
      },
      "source": [
        "Task 3\n",
        "a"
      ]
    },
    {
      "cell_type": "code",
      "execution_count": null,
      "metadata": {
        "colab": {
          "base_uri": "https://localhost:8080/"
        },
        "id": "y5DqNEiSlzCC",
        "outputId": "157a62e4-cbc8-4f7e-95fa-c0b40c1b0ad1"
      },
      "outputs": [
        {
          "name": "stdout",
          "output_type": "stream",
          "text": [
            "Enter your first name Yussif \n",
            "Enter your last name Hamza\n"
          ]
        }
      ],
      "source": [
        "firstname = input(\"Enter your first name \")\n",
        "lastname = input(\"Enter your last name \")"
      ]
    },
    {
      "cell_type": "markdown",
      "metadata": {
        "id": "2ekd4udcmmw3"
      },
      "source": [
        "b"
      ]
    },
    {
      "cell_type": "code",
      "execution_count": null,
      "metadata": {
        "colab": {
          "base_uri": "https://localhost:8080/"
        },
        "id": "irIWUvIbmJvk",
        "outputId": "91d61649-1abf-438e-f8d4-044a42087561"
      },
      "outputs": [
        {
          "output_type": "stream",
          "name": "stdout",
          "text": [
            "Hello Yussif  Hamza!\n"
          ]
        }
      ],
      "source": [
        "print(f\"Hello {firstname} {lastname}!\")"
      ]
    },
    {
      "cell_type": "markdown",
      "metadata": {
        "id": "G0ptxm29mvBc"
      },
      "source": [
        "Task 4\n",
        "a"
      ]
    },
    {
      "cell_type": "code",
      "execution_count": null,
      "metadata": {
        "colab": {
          "base_uri": "https://localhost:8080/"
        },
        "id": "47dPvVJ2mzX6",
        "outputId": "21e5d5c7-b2fb-4c3e-ca06-8ccaae19058d"
      },
      "outputs": [
        {
          "name": "stdout",
          "output_type": "stream",
          "text": [
            "You are 20 years old\n"
          ]
        }
      ],
      "source": [
        "\n",
        "age = 20\n",
        "print(\"You are \"+ str(age) + \" years old\")"
      ]
    },
    {
      "cell_type": "markdown",
      "metadata": {
        "id": "bBT5J2GqnhF-"
      },
      "source": [
        "b"
      ]
    },
    {
      "cell_type": "code",
      "execution_count": null,
      "metadata": {
        "colab": {
          "base_uri": "https://localhost:8080/"
        },
        "id": "CyBia2UrnG56",
        "outputId": "588def1f-f3de-44d4-ac42-46373ef23478"
      },
      "outputs": [
        {
          "name": "stdout",
          "output_type": "stream",
          "text": [
            "Because you can't concatenate an integer and strings\n"
          ]
        }
      ],
      "source": [
        "print(\"Because you can't concatenate an integer and strings\")"
      ]
    },
    {
      "cell_type": "markdown",
      "metadata": {
        "id": "w30e2YU0nt8M"
      },
      "source": [
        "Task 5\n",
        "a"
      ]
    },
    {
      "cell_type": "code",
      "execution_count": null,
      "metadata": {
        "colab": {
          "base_uri": "https://localhost:8080/",
          "height": 53
        },
        "id": "U1MR1wOXnwup",
        "outputId": "e2726f56-d3c8-4f9d-8d1d-51ce36e838f4"
      },
      "outputs": [
        {
          "name": "stdout",
          "output_type": "stream",
          "text": [
            "What's your favourite word Sankara \n"
          ]
        },
        {
          "data": {
            "application/vnd.google.colaboratory.intrinsic+json": {
              "type": "string"
            },
            "text/plain": [
              "'Sankara '"
            ]
          },
          "execution_count": 22,
          "metadata": {},
          "output_type": "execute_result"
        }
      ],
      "source": [
        "input(\"What's your favourite word \")"
      ]
    },
    {
      "cell_type": "markdown",
      "metadata": {
        "id": "G36loY4NoBPg"
      },
      "source": [
        "b"
      ]
    },
    {
      "cell_type": "code",
      "execution_count": null,
      "metadata": {
        "colab": {
          "base_uri": "https://localhost:8080/",
          "height": 90
        },
        "id": "TirhzSrOoCPV",
        "outputId": "5f37a859-20bd-4ec0-91dc-88fe68e464fb"
      },
      "outputs": [
        {
          "name": "stdout",
          "output_type": "stream",
          "text": [
            "How many times would you like to repeat it I would like to repeat it 100 times\n"
          ]
        },
        {
          "data": {
            "application/vnd.google.colaboratory.intrinsic+json": {
              "type": "string"
            },
            "text/plain": [
              "'I would like to repeat it 100 times'"
            ]
          },
          "execution_count": 7,
          "metadata": {},
          "output_type": "execute_result"
        }
      ],
      "source": [
        "input(\"How many times would you like to repeat it \")"
      ]
    },
    {
      "cell_type": "markdown",
      "metadata": {
        "id": "18dj818soRr5"
      },
      "source": [
        "c"
      ]
    },
    {
      "cell_type": "code",
      "execution_count": null,
      "metadata": {
        "colab": {
          "base_uri": "https://localhost:8080/"
        },
        "id": "0QWUA9KuoS4n",
        "outputId": "30015ac1-8af3-4ba2-b18a-b056a39a80d6"
      },
      "outputs": [
        {
          "name": "stdout",
          "output_type": "stream",
          "text": [
            "Sankara\tSankara\tSankara\tSankara\tSankara\tSankara\tSankara\tSankara\tSankara\tSankara\t\n"
          ]
        }
      ],
      "source": [
        "print((\"Sankara\" + \"\\t\")*10)"
      ]
    },
    {
      "cell_type": "markdown",
      "metadata": {
        "id": "fTit29x8okje"
      },
      "source": [
        "Task 6\n",
        "a"
      ]
    },
    {
      "cell_type": "code",
      "execution_count": null,
      "metadata": {
        "colab": {
          "base_uri": "https://localhost:8080/"
        },
        "id": "8Q1f1wpuonOc",
        "outputId": "7405baa9-0025-48d7-b6c1-173743703ad6"
      },
      "outputs": [
        {
          "name": "stdout",
          "output_type": "stream",
          "text": [
            "a. => C. TSyntaxErro\n"
          ]
        }
      ],
      "source": [
        "print(\"a. => C. TSyntaxErro\")"
      ]
    },
    {
      "cell_type": "code",
      "execution_count": null,
      "metadata": {
        "colab": {
          "base_uri": "https://localhost:8080/"
        },
        "id": "Fgc7evSopNzM",
        "outputId": "b32c5cbb-dcc2-48f7-e63f-a3b1bbbece03"
      },
      "outputs": [
        {
          "name": "stdout",
          "output_type": "stream",
          "text": [
            "b.=> A. ValueErro\n"
          ]
        }
      ],
      "source": [
        "print(\"b.=> A. ValueErro\")"
      ]
    },
    {
      "cell_type": "code",
      "execution_count": null,
      "metadata": {
        "colab": {
          "base_uri": "https://localhost:8080/"
        },
        "id": "F7etNMXwpiFX",
        "outputId": "3102845e-39f8-4b08-ee14-6be4186aade4"
      },
      "outputs": [
        {
          "name": "stdout",
          "output_type": "stream",
          "text": [
            "c.=> B. TypeError\n"
          ]
        }
      ],
      "source": [
        "print(\"c.=> B. TypeError\")"
      ]
    },
    {
      "cell_type": "markdown",
      "metadata": {
        "id": "COBoOk6E5YV5"
      },
      "source": [
        "ASSIGNMENT _4"
      ]
    },
    {
      "cell_type": "code",
      "execution_count": null,
      "metadata": {
        "colab": {
          "base_uri": "https://localhost:8080/"
        },
        "id": "kTgIHS-zbRBV",
        "outputId": "59472ca5-7a84-4873-b9d9-34aae8409769"
      },
      "outputs": [
        {
          "output_type": "stream",
          "name": "stdout",
          "text": [
            "DarcysLaw: 1250.0\n",
            "MaterialBalanceOil: 1000000.0\n",
            "VogelsIPR: 511.1111111111111\n",
            "ArpsDecline: 666.6666666666666\n",
            "STOIIPVolumetric: 4666666.666666667\n",
            "GorRelationship: 375.0\n"
          ]
        }
      ],
      "source": [
        "class PetroleumFormula:\n",
        "    def calculate(self):\n",
        "        raise NotImplementedError(\"Subclasses must implement calculate()\")\n",
        "\n",
        "class DarcysLaw(PetroleumFormula):\n",
        "    def __init__(self, permeability, area, pressure_diff, viscosity, length):\n",
        "        self.permeability = permeability\n",
        "        self.area = area\n",
        "        self.pressure_diff = pressure_diff\n",
        "        self.viscosity = viscosity\n",
        "        self.length = length\n",
        "\n",
        "    def calculate(self):\n",
        "        try:\n",
        "            if any(val <= 0 for val in [self.permeability, self.area, self.pressure_diff, self.viscosity, self.length]):\n",
        "                raise ValueError(\"All parameters must be positive\")\n",
        "            flow_rate = (self.permeability * self.area * self.pressure_diff) / (self.viscosity * self.length)\n",
        "            return flow_rate\n",
        "        except ValueError as e:\n",
        "            return f\"Error in Darcy's Law: {e}\"\n",
        "        except TypeError:\n",
        "            return \"Error: All parameters must be numeric values\"\n",
        "\n",
        "class MaterialBalanceOil(PetroleumFormula):\n",
        "    def __init__(self, initial_pressure, current_pressure, initial_compressibility, oil_volume):\n",
        "        self.initial_pressure = initial_pressure\n",
        "        self.current_pressure = current_pressure\n",
        "        self.initial_compressibility = initial_compressibility\n",
        "        self.oil_volume = oil_volume\n",
        "\n",
        "    def calculate(self):\n",
        "        try:\n",
        "            if self.initial_pressure <= self.current_pressure:\n",
        "                raise ValueError(\"Initial pressure must be greater than current pressure\")\n",
        "            if any(val <= 0 for val in [self.initial_compressibility, self.oil_volume]):\n",
        "                raise ValueError(\"Compressibility and oil volume must be positive\")\n",
        "            pressure_diff = self.initial_pressure - self.current_pressure\n",
        "            expansion = self.initial_compressibility * pressure_diff * self.oil_volume\n",
        "            return expansion\n",
        "        except ValueError as e:\n",
        "            return f\"Error in Material Balance: {e}\"\n",
        "        except TypeError:\n",
        "            return \"Error: All parameters must be numeric values\"\n",
        "\n",
        "class VogelsIPR(PetroleumFormula):\n",
        "    def __init__(self, reservoir_pressure, current_pressure, max_flow_rate):\n",
        "        self.reservoir_pressure = reservoir_pressure\n",
        "        self.current_pressure = current_pressure\n",
        "        self.max_flow_rate = max_flow_rate\n",
        "\n",
        "    def calculate(self):\n",
        "        try:\n",
        "            if any(val <= 0 for val in [self.reservoir_pressure, self.max_flow_rate]):\n",
        "                raise ValueError(\"Reservoir pressure and max flow rate must be positive\")\n",
        "            if self.current_pressure < 0:\n",
        "                raise ValueError(\"Current pressure cannot be negative\")\n",
        "            if self.current_pressure > self.reservoir_pressure:\n",
        "                raise ValueError(\"Current pressure cannot exceed reservoir pressure\")\n",
        "            ratio = self.current_pressure / self.reservoir_pressure\n",
        "            flow_rate = self.max_flow_rate * (1 - 0.2 * ratio - 0.8 * ratio**2)\n",
        "            return flow_rate\n",
        "        except ValueError as e:\n",
        "            return f\"Error in Vogel's IPR: {e}\"\n",
        "        except TypeError:\n",
        "            return \"Error: All parameters must be numeric values\"\n",
        "\n",
        "class ArpsDecline(PetroleumFormula):\n",
        "    def __init__(self, initial_rate, decline_rate, time):\n",
        "        self.initial_rate = initial_rate\n",
        "        self.decline_rate = decline_rate\n",
        "        self.time = time\n",
        "\n",
        "    def calculate(self):\n",
        "        try:\n",
        "            if any(val < 0 for val in [self.initial_rate, self.decline_rate, self.time]):\n",
        "                raise ValueError(\"Rates and time cannot be negative\")\n",
        "            if self.decline_rate == 0:\n",
        "                raise ValueError(\"Decline rate cannot be zero\")\n",
        "            flow_rate = self.initial_rate * (1 + self.decline_rate * self.time)**(-1)\n",
        "            return flow_rate\n",
        "        except ValueError as e:\n",
        "            return f\"Error in Arps Decline: {e}\"\n",
        "        except TypeError:\n",
        "            return \"Error: All parameters must be numeric values\"\n",
        "\n",
        "class STOIIPVolumetric(PetroleumFormula):\n",
        "    def __init__(self, area, thickness, porosity, saturation, fvf):\n",
        "        self.area = area\n",
        "        self.thickness = thickness\n",
        "        self.porosity = porosity\n",
        "        self.saturation = saturation\n",
        "        self.fvf = fvf\n",
        "\n",
        "    def calculate(self):\n",
        "        try:\n",
        "            if any(val <= 0 for val in [self.area, self.thickness, self.porosity, self.saturation, self.fvf]):\n",
        "                raise ValueError(\"All parameters must be positive\")\n",
        "            if self.saturation >= 1:\n",
        "                raise ValueError(\"Saturation must be less than 1\")\n",
        "            stoiip = (self.area * self.thickness * self.porosity * (1 - self.saturation)) / self.fvf\n",
        "            return stoiip\n",
        "        except ValueError as e:\n",
        "            return f\"Error in STOIIP Calculation: {e}\"\n",
        "        except TypeError:\n",
        "            return \"Error: All parameters must be numeric values\"\n",
        "\n",
        "class GorRelationship(PetroleumFormula):\n",
        "    def __init__(self, solution_gor, pressure, bubble_point):\n",
        "        self.solution_gor = solution_gor\n",
        "        self.pressure = pressure\n",
        "        self.bubble_point = bubble_point\n",
        "\n",
        "    def calculate(self):\n",
        "        try:\n",
        "            if any(val <= 0 for val in [self.solution_gor, self.bubble_point]):\n",
        "                raise ValueError(\"Solution GOR and bubble point must be positive\")\n",
        "            if self.pressure < 0:\n",
        "                raise ValueError(\"Pressure cannot be negative\")\n",
        "            if self.pressure > self.bubble_point:\n",
        "                gor = self.solution_gor\n",
        "            else:\n",
        "                gor = self.solution_gor * (self.pressure / self.bubble_point)\n",
        "            return gor\n",
        "        except ValueError as e:\n",
        "            return f\"Error in GOR Calculation: {e}\"\n",
        "        except TypeError:\n",
        "            return \"Error: All parameters must be numeric values\"\n",
        "\n",
        "# Example usage with polymorphism\n",
        "formulas = [\n",
        "    DarcysLaw(0.1, 10000, 500, 2, 200),\n",
        "    MaterialBalanceOil(5000, 3000, 0.0005, 1000000),\n",
        "    VogelsIPR(3000, 2000, 1000),\n",
        "    ArpsDecline(1000, 0.1, 5),\n",
        "    STOIIPVolumetric(1000000, 50, 0.2, 0.3, 1.5),\n",
        "    GorRelationship(500, 1500, 2000)\n",
        "]\n",
        "\n",
        "for formula in formulas:\n",
        "    result = formula.calculate()\n",
        "    print(f\"{formula.__class__.__name__}: {result}\")"
      ]
    },
    {
      "cell_type": "markdown",
      "metadata": {
        "id": "tdafGl4B3vPd"
      },
      "source": [
        "ASSIGNMENT _2"
      ]
    },
    {
      "cell_type": "code",
      "execution_count": null,
      "metadata": {
        "colab": {
          "base_uri": "https://localhost:8080/"
        },
        "id": "v8Ob9w7j4DbI",
        "outputId": "5d87289c-5637-45de-d4e9-d92dd5ddbde3"
      },
      "outputs": [
        {
          "output_type": "stream",
          "name": "stdout",
          "text": [
            "Enter a number 5\n",
            "5×1 = 5\n",
            "5×2 = 10\n",
            "5×3 = 15\n",
            "5×4 = 20\n",
            "5×5 = 25\n",
            "5×6 = 30\n",
            "5×7 = 35\n",
            "5×8 = 40\n",
            "5×9 = 45\n",
            "5×10 = 50\n",
            "5×11 = 55\n",
            "5×12 = 60\n",
            "5×13 = 65\n",
            "5×14 = 70\n",
            "5×15 = 75\n",
            "5×16 = 80\n",
            "5×17 = 85\n",
            "5×18 = 90\n",
            "5×19 = 95\n",
            "5×20 = 100\n"
          ]
        }
      ],
      "source": [
        "def multiplication_table(x):\n",
        " for t in range(1, 21):\n",
        "    print(f'{x}×{t} = {x*t}')\n",
        "num = int(input(\"Enter a number \"))\n",
        "multiplication_table(num)"
      ]
    },
    {
      "cell_type": "code",
      "source": [
        "import random\n",
        "\n",
        "def get_player_guess():\n",
        "    \"\"\"\n",
        "    Asks the player to enter a guess and handles potential errors.\n",
        "    Returns the player's guess as an integer.\n",
        "    \"\"\"\n",
        "    while True:\n",
        "        try:\n",
        "            guess = int(input(\"Guess a number between 1 and 10: \"))\n",
        "            return guess\n",
        "        except ValueError:\n",
        "            print(\"Invalid input! Please enter a whole number.\")\n",
        "\n",
        "def check_guess(secret_number, guess):\n",
        "    \"\"\"\n",
        "    Compares the player's guess to the secret number.\n",
        "    Returns True if the guess is correct, otherwise returns False.\n",
        "    \"\"\"\n",
        "    if guess < secret_number:\n",
        "        print(\"Too low! Try again.\")\n",
        "        return False\n",
        "    elif guess > secret_number:\n",
        "        print(\"Too high! Try again.\")\n",
        "        return False\n",
        "    else:\n",
        "        print(f\"You got it! The number was {secret_number}.\")\n",
        "        return True\n",
        "\n",
        "def play_game():\n",
        "    \"\"\"\n",
        "    The main function to run the guessing game.\n",
        "    \"\"\"\n",
        "    secret_number = random.randint(1, 10)\n",
        "    max_attempts = 5\n",
        "    attempts = 0\n",
        "    guessed_correctly = False\n",
        "\n",
        "    print(\"Welcome to the Guessing Game!\")\n",
        "    print(f\"You have {max_attempts} attempts to guess the number.\")\n",
        "\n",
        "    while attempts < max_attempts and not guessed_correctly:\n",
        "        attempts += 1\n",
        "        print(f\"\\nAttempt {attempts}/{max_attempts}\")\n",
        "        player_guess = get_player_guess()\n",
        "        guessed_correctly = check_guess(secret_number, player_guess)\n",
        "\n",
        "    if not guessed_correctly:\n",
        "        print(f\"\\nGame over! You ran out of attempts. The number was {secret_number}.\")\n",
        "\n",
        "# Start the game\n",
        "play_game()"
      ],
      "metadata": {
        "colab": {
          "base_uri": "https://localhost:8080/"
        },
        "id": "SfgKW-Pi0QB4",
        "outputId": "99763264-0540-430e-f80f-1bc3f1626c09"
      },
      "execution_count": null,
      "outputs": [
        {
          "output_type": "stream",
          "name": "stdout",
          "text": [
            "Welcome to the Guessing Game!\n",
            "You have 5 attempts to guess the number.\n",
            "\n",
            "Attempt 1/5\n",
            "Guess a number between 1 and 10: 5\n",
            "Too low! Try again.\n",
            "\n",
            "Attempt 2/5\n",
            "Guess a number between 1 and 10: 7\n",
            "You got it! The number was 7.\n"
          ]
        }
      ]
    },
    {
      "cell_type": "markdown",
      "metadata": {
        "id": "9tvqSznJ3d_k"
      },
      "source": [
        "ASSIGNMENT_3"
      ]
    },
    {
      "cell_type": "code",
      "execution_count": null,
      "metadata": {
        "colab": {
          "background_save": true
        },
        "id": "ksu0FcbifQPx",
        "outputId": "a91cbac9-14ab-410e-961f-00ea07eab9c7"
      },
      "outputs": [
        {
          "name": "stdout",
          "output_type": "stream",
          "text": [
            "Input: 'Hello', Output: 'hello'\n",
            "Input: 'hERE', Output: 'here'\n",
            "Input: 'LOVELY', Output: 'lovely'\n"
          ]
        }
      ],
      "source": [
        "def task1(s):\n",
        "  \"\"\"\n",
        "  Replaces all uppercase letters in a string with their lowercase equivalents.\n",
        "\n",
        "  Args:\n",
        "    s: The input string.\n",
        "\n",
        "  Returns:\n",
        "    The modified string.\n",
        "  \"\"\"\n",
        "  return s.lower()\n",
        "\n",
        "# Examples:\n",
        "print(f\"Input: 'Hello', Output: '{task1('Hello')}'\")\n",
        "print(f\"Input: 'hERE', Output: '{task1('hERE')}'\")\n",
        "print(f\"Input: 'LOVELY', Output: '{task1('LOVELY')}'\")"
      ]
    },
    {
      "cell_type": "code",
      "execution_count": null,
      "metadata": {
        "colab": {
          "background_save": true
        },
        "id": "uVfGwuvJf-9Y",
        "outputId": "9e02677d-44c6-4ec1-d46b-212d1e1a5822"
      },
      "outputs": [
        {
          "name": "stdout",
          "output_type": "stream",
          "text": [
            "Input: 'HeLLo WoRLd', Output: 'hEllO wOrlD'\n"
          ]
        }
      ],
      "source": [
        "def task2(s):\n",
        "  \"\"\"\n",
        "  Swaps the case of all letters in a string.\n",
        "\n",
        "  Args:\n",
        "    s: The input string.\n",
        "\n",
        "  Returns:\n",
        "    The case-swapped string.\n",
        "  \"\"\"\n",
        "  return s.swapcase()\n",
        "\n",
        "# Example:\n",
        "print(f\"Input: 'HeLLo WoRLd', Output: '{task2('HeLLo WoRLd')}'\")"
      ]
    },
    {
      "cell_type": "code",
      "execution_count": null,
      "metadata": {
        "colab": {
          "background_save": true
        },
        "id": "5xt-p1xLgPIm",
        "outputId": "1bcc73f0-25b7-496c-c996-1326908862da"
      },
      "outputs": [
        {
          "name": "stdout",
          "output_type": "stream",
          "text": [
            "Input: 'HelloWorld', Output: 'elloorld'\n"
          ]
        }
      ],
      "source": [
        "def task3(s):\n",
        "  \"\"\"\n",
        "  Removes all uppercase letters from a string.\n",
        "\n",
        "  Args:\n",
        "    s: The input string.\n",
        "\n",
        "  Returns:\n",
        "    The string with all uppercase letters removed.\n",
        "  \"\"\"\n",
        "  modified_string = \"\"\n",
        "  for char in s:\n",
        "    if not char.isupper():\n",
        "      modified_string += char\n",
        "  return modified_string\n",
        "\n",
        "# Example:\n",
        "print(f\"Input: 'HelloWorld', Output: '{task3('HelloWorld')}'\")"
      ]
    },
    {
      "cell_type": "code",
      "execution_count": null,
      "metadata": {
        "colab": {
          "background_save": true
        },
        "id": "TT520FRxgTq_",
        "outputId": "14e6ab6e-bb25-49df-fd01-2a001294c43a"
      },
      "outputs": [
        {
          "name": "stdout",
          "output_type": "stream",
          "text": [
            "Input: 'EnginEEr', Output: Uppercase: 3, Lowercase: 5\n"
          ]
        }
      ],
      "source": [
        "def task4(s):\n",
        "  \"\"\"\n",
        "  Counts the number of uppercase and lowercase letters in a string.\n",
        "\n",
        "  Args:\n",
        "    s: The input string.\n",
        "\n",
        "  Returns:\n",
        "    A tuple containing the count of uppercase and lowercase letters.\n",
        "  \"\"\"\n",
        "  uppercase_count = 0\n",
        "  lowercase_count = 0\n",
        "  for char in s:\n",
        "    if char.isupper():\n",
        "      uppercase_count += 1\n",
        "    elif char.islower():\n",
        "      lowercase_count += 1\n",
        "  return (uppercase_count, lowercase_count)\n",
        "\n",
        "# Example:\n",
        "upper, lower = task4(\"EnginEEr\")\n",
        "print(f\"Input: 'EnginEEr', Output: Uppercase: {upper}, Lowercase: {lower}\")"
      ]
    },
    {
      "cell_type": "code",
      "execution_count": null,
      "metadata": {
        "colab": {
          "background_save": true
        },
        "id": "uJLQqqmQgYxx",
        "outputId": "3466d092-1be2-429d-bec7-ad751d747434"
      },
      "outputs": [
        {
          "name": "stdout",
          "output_type": "stream",
          "text": [
            "Input: 'Data-Driven@2025!', Output: 'DataDriven'\n"
          ]
        }
      ],
      "source": [
        "def task5(s):\n",
        "  \"\"\"\n",
        "  Removes all non-alphabetic characters from a string.\n",
        "\n",
        "  Args:\n",
        "    s: The input string.\n",
        "\n",
        "  Returns:\n",
        "    The string containing only alphabetic characters.\n",
        "  \"\"\"\n",
        "  modified_string = \"\"\n",
        "  for char in s:\n",
        "    if char.isalpha():\n",
        "      modified_string += char\n",
        "  return modified_string\n",
        "\n",
        "# Example:\n",
        "print(f\"Input: 'Data-Driven@2025!', Output: '{task5('Data-Driven@2025!')}'\")"
      ]
    },
    {
      "cell_type": "code",
      "execution_count": null,
      "metadata": {
        "colab": {
          "background_save": true
        },
        "id": "pzVWCJsygaTZ",
        "outputId": "c12e6c89-61b6-45b7-d6d6-aba10af5e181"
      },
      "outputs": [
        {
          "name": "stdout",
          "output_type": "stream",
          "text": [
            "Input: a=3, b=4, c=5, Output: 6.0\n"
          ]
        }
      ],
      "source": [
        "import math\n",
        "\n",
        "def task6(a, b, c):\n",
        "  \"\"\"\n",
        "  Calculates the area of a triangle using Heron's formula.\n",
        "\n",
        "  Args:\n",
        "    a: Length of the first side.\n",
        "    b: Length of the second side.\n",
        "    c: Length of the third side.\n",
        "\n",
        "  Returns:\n",
        "    The area of the triangle.\n",
        "  \"\"\"\n",
        "  # Calculate the semi-perimeter\n",
        "  s = (a + b + c) / 2\n",
        "\n",
        "  # Calculate the area using Heron's formula\n",
        "  area = math.sqrt(s * (s - a) * (s - b) * (s - c))\n",
        "  return area\n",
        "\n",
        "# Example:\n",
        "print(f\"Input: a=3, b=4, c=5, Output: {task6(3, 4, 5):.1f}\")"
      ]
    },
    {
      "cell_type": "code",
      "execution_count": null,
      "metadata": {
        "colab": {
          "background_save": true
        },
        "id": "sYx_ZUMAgd1C",
        "outputId": "c6fcf3a8-56fb-4e88-fefa-27d471ea1bea"
      },
      "outputs": [
        {
          "name": "stdout",
          "output_type": "stream",
          "text": [
            "Name:                  Length:\n",
            "------------------------------\n",
            "Alice                        5\n",
            "Bob                          3\n",
            "Charlie                      7\n",
            "David                        5\n"
          ]
        }
      ],
      "source": [
        "def task7(names):\n",
        "  \"\"\"\n",
        "  Formats and prints a list of names in a neat table.\n",
        "\n",
        "  Args:\n",
        "    names: A list of names (strings).\n",
        "  \"\"\"\n",
        "  print(\"Name:\".ljust(20) + \"Length:\".rjust(10))\n",
        "  print(\"-\" * 30)\n",
        "  for name in names:\n",
        "    length = len(name)\n",
        "    print(name.ljust(20) + str(length).rjust(10))\n",
        "\n",
        "# Example list of names:\n",
        "name_list = [\"Alice\", \"Bob\", \"Charlie\", \"David\"]\n",
        "task7(name_list)"
      ]
    },
    {
      "cell_type": "code",
      "execution_count": null,
      "metadata": {
        "colab": {
          "background_save": true
        },
        "id": "ahl8hrTJggi_",
        "outputId": "3f9ab57e-b3db-4a64-b55d-378ad9a68a40"
      },
      "outputs": [
        {
          "name": "stdout",
          "output_type": "stream",
          "text": [
            "Input: ' Hello, World! ', Output: 'HelloWorld'\n"
          ]
        }
      ],
      "source": [
        "import string\n",
        "\n",
        "def task8(s):\n",
        "  \"\"\"\n",
        "  Cleans a string by removing whitespace, punctuation, and spaces.\n",
        "\n",
        "  Args:\n",
        "    s: The input string.\n",
        "\n",
        "  Returns:\n",
        "    The cleaned string.\n",
        "  \"\"\"\n",
        "  # i. Remove leading/trailing whitespace\n",
        "  s = s.strip()\n",
        "\n",
        "  # ii. Replace all punctuation with an empty string\n",
        "  for punc in string.punctuation:\n",
        "    s = s.replace(punc, \"\")\n",
        "\n",
        "  # iii. Remove all spaces\n",
        "  s = s.replace(\" \", \"\")\n",
        "\n",
        "  return s\n",
        "\n",
        "# Example:\n",
        "print(f\"Input: ' Hello, World! ', Output: '{task8(' Hello, World! ')}'\")"
      ]
    }
  ],
  "metadata": {
    "colab": {
      "provenance": [],
      "include_colab_link": true
    },
    "kernelspec": {
      "display_name": "Python 3",
      "name": "python3"
    },
    "language_info": {
      "name": "python"
    }
  },
  "nbformat": 4,
  "nbformat_minor": 0
}